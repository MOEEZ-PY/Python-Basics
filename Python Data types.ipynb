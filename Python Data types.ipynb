{
  "nbformat": 4,
  "nbformat_minor": 0,
  "metadata": {
    "colab": {
      "name": "Practice python.ipynb",
      "provenance": [],
      "collapsed_sections": [],
      "authorship_tag": "ABX9TyOPkW4fU9F6/zjcY/TLOfzR",
      "include_colab_link": true
    },
    "kernelspec": {
      "name": "python3",
      "display_name": "Python 3"
    },
    "language_info": {
      "name": "python"
    }
  },
  "cells": [
    {
      "cell_type": "markdown",
      "metadata": {
        "id": "view-in-github",
        "colab_type": "text"
      },
      "source": [
        "<a href=\"https://colab.research.google.com/github/MOEEZ-PY/Python-Basics/blob/main/Python%20Data%20types.ipynb\" target=\"_parent\"><img src=\"https://colab.research.google.com/assets/colab-badge.svg\" alt=\"Open In Colab\"/></a>"
      ]
    },
    {
      "cell_type": "markdown",
      "source": [
        "**Data Types in Python:**\n",
        "Data Types are most important in any programming language.\n",
        "as we are discussing about python programming language,so we can show our datatypes in python. The data types are as follow:-\n",
        "\n",
        "\n",
        "**Text Type:\tstr\n",
        "\n",
        "Numeric Types:\tint, float, complex\n",
        "\n",
        "Sequence Types:\tlist, tuple, range\n",
        "\n",
        "Mapping Type:\tdict\n",
        "\n",
        "Set Types:\tset, frozenset\n",
        "\n",
        "Boolean Type:\tbool\n",
        "\n",
        "Binary Types:\tbytes, bytearray, memoryview **\n",
        "\n",
        "\n"
      ],
      "metadata": {
        "id": "tP0OC3a6ChZS"
      }
    },
    {
      "cell_type": "code",
      "source": [
        "###################STRING METHOD#################"
      ],
      "metadata": {
        "id": "hw9lcd53HFAM"
      },
      "execution_count": null,
      "outputs": []
    },
    {
      "cell_type": "markdown",
      "source": [
        "First of all we will discuss about Text data type:\n",
        "\n",
        "String is the method in which we use text in our programming language because computer can't understand any kind of text, so we use string datatype.\n",
        "\n",
        "The **Syntax** of String datatype is:\n",
        "\n",
        "*x= \"Hello World!\"*\n",
        "\n",
        "*y= 'Hellow Learners!'*\n",
        "\n",
        "In above statement we wrote Hello World in double quotes, Anything which is written in double quotes/Single Quotes will be treated as String in Python Programming Language..\n",
        "\n",
        "Let us we try an example:\n"
      ],
      "metadata": {
        "id": "aOpv53fKEhT5"
      }
    },
    {
      "cell_type": "code",
      "source": [
        "x= \"Hello World!\"\n",
        "print(x)"
      ],
      "metadata": {
        "colab": {
          "base_uri": "https://localhost:8080/"
        },
        "id": "fWtiI3bjCU_6",
        "outputId": "bc0fde95-1d6e-480c-ea87-292f3cb535e0"
      },
      "execution_count": null,
      "outputs": [
        {
          "output_type": "stream",
          "name": "stdout",
          "text": [
            "Hello World!\n"
          ]
        }
      ]
    },
    {
      "cell_type": "code",
      "source": [
        "y='Hello Learners!'\n",
        "print(y)"
      ],
      "metadata": {
        "colab": {
          "base_uri": "https://localhost:8080/"
        },
        "id": "mjGEdsV9Hcpb",
        "outputId": "0e614295-a3a6-4a7c-f180-2a638193ddf5"
      },
      "execution_count": null,
      "outputs": [
        {
          "output_type": "stream",
          "name": "stdout",
          "text": [
            "Hello Learners!\n"
          ]
        }
      ]
    },
    {
      "cell_type": "code",
      "source": [
        ""
      ],
      "metadata": {
        "id": "Si7Q0bbaHkUk"
      },
      "execution_count": null,
      "outputs": []
    }
  ]
}