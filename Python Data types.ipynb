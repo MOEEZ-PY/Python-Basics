{
  "nbformat": 4,
  "nbformat_minor": 0,
  "metadata": {
    "colab": {
      "name": "Practice python.ipynb",
      "provenance": [],
      "collapsed_sections": [],
      "authorship_tag": "ABX9TyPc0jgFgW0UMf6iUrJkUeJq",
      "include_colab_link": true
    },
    "kernelspec": {
      "name": "python3",
      "display_name": "Python 3"
    },
    "language_info": {
      "name": "python"
    }
  },
  "cells": [
    {
      "cell_type": "markdown",
      "metadata": {
        "id": "view-in-github",
        "colab_type": "text"
      },
      "source": [
        "<a href=\"https://colab.research.google.com/github/MOEEZ-PY/Python-Basics/blob/main/Python%20Data%20types.ipynb\" target=\"_parent\"><img src=\"https://colab.research.google.com/assets/colab-badge.svg\" alt=\"Open In Colab\"/></a>"
      ]
    },
    {
      "cell_type": "markdown",
      "source": [
        "**Data Types in Python:**\n",
        "Data Types are most important in any programming language.\n",
        "as we are discussing about python programming language,so we can show our datatypes in python. The data types are as follow:-\n",
        "\n",
        "\n",
        "**Text Type:\tstr\n",
        "\n",
        "Numeric Types:\tint, float, complex\n",
        "\n",
        "Sequence Types:\tlist, tuple\n",
        "\n",
        "Mapping Type:\tdict\n",
        "\n",
        "Set Types:\tset, frozenset\n",
        "\n",
        "Boolean Type:\tbool\n",
        "\n",
        "Binary Types:\tbytes, bytearray, memoryview **\n",
        "\n",
        "\n"
      ],
      "metadata": {
        "id": "tP0OC3a6ChZS"
      }
    },
    {
      "cell_type": "markdown",
      "source": [
        "# String:\n",
        "\n",
        "String is the method in which we use text in our programming language because computer can't understand any kind of text, so we use string datatype.\n",
        "\n",
        "The **Syntax** of String datatype is:\n",
        "\n",
        "*x= \"Hello World!\"*\n",
        "\n",
        "*y= 'Hellow Learners!'*\n",
        "\n",
        "In above statement we wrote Hello World in double quotes, Anything which is written in double quotes/Single Quotes will be treated as String in Python Programming Language..\n",
        "\n",
        "Let us we try an example:\n"
      ],
      "metadata": {
        "id": "aOpv53fKEhT5"
      }
    },
    {
      "cell_type": "code",
      "source": [
        "x= \"Hello World!\"\n",
        "print(x)"
      ],
      "metadata": {
        "colab": {
          "base_uri": "https://localhost:8080/"
        },
        "id": "fWtiI3bjCU_6",
        "outputId": "bc0fde95-1d6e-480c-ea87-292f3cb535e0"
      },
      "execution_count": null,
      "outputs": [
        {
          "output_type": "stream",
          "name": "stdout",
          "text": [
            "Hello World!\n"
          ]
        }
      ]
    },
    {
      "cell_type": "code",
      "source": [
        "y='Hello Learners!'\n",
        "print(y)"
      ],
      "metadata": {
        "colab": {
          "base_uri": "https://localhost:8080/"
        },
        "id": "mjGEdsV9Hcpb",
        "outputId": "0e614295-a3a6-4a7c-f180-2a638193ddf5"
      },
      "execution_count": null,
      "outputs": [
        {
          "output_type": "stream",
          "name": "stdout",
          "text": [
            "Hello Learners!\n"
          ]
        }
      ]
    },
    {
      "cell_type": "markdown",
      "source": [
        "##Numeric Data Types:\n",
        "After Discussing **String** Data type we will discuss about **Numeric** data types. Numeric Type contain **int**, **float**,**complex**\n",
        "\n",
        "##Integer aka int:\n",
        "First of all we will discuss about **int**:\n",
        "\n",
        "**int** is commonly known as *Integer*. Integer is a sequenced number like *0,1,2,3,4,5* upto so on..we use **int** as a short form of *Integer*. It is in the form of number, so when we see a number in python we can say it an Integer or int. \n",
        "\n",
        " Let us see an example:-"
      ],
      "metadata": {
        "id": "wtO8G3VeZ2ho"
      }
    },
    {
      "cell_type": "code",
      "source": [
        "x= 3\n",
        "y=4\n",
        "print(x)\n",
        "print(y)\n",
        "type(x)\n",
        "type(y)"
      ],
      "metadata": {
        "colab": {
          "base_uri": "https://localhost:8080/"
        },
        "id": "yup7jLoAvYPX",
        "outputId": "55b2ee2a-ad27-4755-fbae-d660258bc66c"
      },
      "execution_count": null,
      "outputs": [
        {
          "output_type": "stream",
          "name": "stdout",
          "text": [
            "3\n",
            "4\n"
          ]
        },
        {
          "output_type": "execute_result",
          "data": {
            "text/plain": [
              "int"
            ]
          },
          "metadata": {},
          "execution_count": 5
        }
      ]
    },
    {
      "cell_type": "markdown",
      "source": [
        "##Type() Function:\n",
        "Here, I added some extra commands like *type()*, Type is a built-in Function of Python which tells us that which type of command it is! As you see, we try type() command and the interpreter tells us that the variable x contain an integer value.\n",
        "\n"
      ],
      "metadata": {
        "id": "3GzdO1MjvlqX"
      }
    },
    {
      "cell_type": "markdown",
      "source": [
        "##Float: \n",
        "Float is an datatype. Float is use for decimal values like if the numeric value is in decimal points so we call it as Floating point number. So, if we want to define a decimal number in programming so we use float data type:\n",
        "\n",
        "Let us see a example:-\n"
      ],
      "metadata": {
        "id": "34RxLs-hQs7g"
      }
    },
    {
      "cell_type": "code",
      "source": [
        "x= 45.54\n",
        "print(type(x))"
      ],
      "metadata": {
        "id": "o0AwxVOevb4H",
        "colab": {
          "base_uri": "https://localhost:8080/"
        },
        "outputId": "71222079-d6ce-4370-889b-2d7ebcc30269"
      },
      "execution_count": null,
      "outputs": [
        {
          "output_type": "stream",
          "name": "stdout",
          "text": [
            "<class 'float'>\n"
          ]
        }
      ]
    },
    {
      "cell_type": "markdown",
      "source": [
        "##Complex:-\n",
        "\n",
        "A complex number has two parts, real part and imaginary part. Complex numbers are represented as A+Bi or A+Bj , where A is real part and B is imaginary part. Python supports complex data type as built-in feature which means we can directly perform different operations on complex number in python.\n",
        "\n",
        "Let us see an example:"
      ],
      "metadata": {
        "id": "5ZC7EXCuUvZD"
      }
    },
    {
      "cell_type": "code",
      "source": [
        "x= 1+2j \n",
        "print(type(x))"
      ],
      "metadata": {
        "colab": {
          "base_uri": "https://localhost:8080/"
        },
        "id": "bW4VPo2VUFwm",
        "outputId": "d08d9a71-9349-4c74-b2ff-93ab972a4581"
      },
      "execution_count": null,
      "outputs": [
        {
          "output_type": "stream",
          "name": "stdout",
          "text": [
            "<class 'complex'>\n"
          ]
        }
      ]
    },
    {
      "cell_type": "markdown",
      "source": [
        "After Discussing , Numeric Types we will discuss about Sequence Type:\n",
        "\n",
        "##Sequence Type:\n",
        "\n",
        "The meaning of Sequence is a particular order in which related things follow each other.There are different types of this module:\n",
        "\n",
        "\n",
        "\n",
        "1.   List\n",
        "2.   Tuple\n",
        "3.   Range\n",
        "\n",
        "\n",
        "\n"
      ],
      "metadata": {
        "id": "Nzbqogt9VdFh"
      }
    },
    {
      "cell_type": "markdown",
      "source": [
        "##List:\n",
        "\n",
        "List is a data type for numbers, letters, complex. In List we can store multiple things like Strings, Boolean, Integers and float\n",
        "\n",
        "*Syntax*\n",
        "x= ['hello', 1, True ]\n",
        "\n",
        "Let us see an example:"
      ],
      "metadata": {
        "id": "zlu_8tOD69eQ"
      }
    },
    {
      "cell_type": "code",
      "source": [
        "x=[1,'python', True, 76.67]\n",
        "print(type(x))"
      ],
      "metadata": {
        "id": "ZyyUYrnrVCj5",
        "colab": {
          "base_uri": "https://localhost:8080/"
        },
        "outputId": "437dd904-c81d-463e-969a-5a26ff473208"
      },
      "execution_count": 1,
      "outputs": [
        {
          "output_type": "stream",
          "name": "stdout",
          "text": [
            "<class 'list'>\n"
          ]
        }
      ]
    },
    {
      "cell_type": "markdown",
      "source": [
        "**Tuple:**\n",
        "\n",
        "Tuple is same as list but it is *immutable* like if we add items in tuple so we cannot change the items. For creating a list we use Braces and in tuple we use small brackets. Tuple is widely use in Blockchain.\n",
        "\n",
        "*Syntax*\n",
        "\n",
        "x=(\"hi\", 1 , True, 34.333)\n",
        "\n",
        "Let us see an example:\n"
      ],
      "metadata": {
        "id": "BMOsYjn3ZJqF"
      }
    },
    {
      "cell_type": "code",
      "source": [
        "xx= ('python', 1 , True, 223.22)\n",
        "print(type(xx))"
      ],
      "metadata": {
        "colab": {
          "base_uri": "https://localhost:8080/"
        },
        "id": "h35-p5DVZD6U",
        "outputId": "6e4e167a-15c2-4ab3-baec-2096c79abe64"
      },
      "execution_count": 2,
      "outputs": [
        {
          "output_type": "stream",
          "name": "stdout",
          "text": [
            "<class 'tuple'>\n"
          ]
        }
      ]
    },
    {
      "cell_type": "markdown",
      "source": [
        "**MAPPING TYPE**"
      ],
      "metadata": {
        "id": "fh2pArOOfhJl"
      }
    },
    {
      "cell_type": "markdown",
      "source": [
        "**Dictionary:**\n",
        "\n",
        "Dictionary is used for mapping process; like if we relate items to something, so we use dictionary method. For example, we want to add Ford car in our program so we want to specify its model, mileage, engine etc, in this method we use dictionary. We use curly brackets for Dictionary\n",
        "\n",
        "*Syntax*\n",
        "\n",
        "myDict={\n",
        "  \"car\": \"Ford\",\n",
        "  \"model\": 2014,\n",
        "  \"engine\": \"turbo\",\n",
        "}\n",
        "\n",
        "Let us see an example:"
      ],
      "metadata": {
        "id": "CmRJLRWzbpng"
      }
    },
    {
      "cell_type": "code",
      "source": [
        "myDict={\n",
        "    \"car\":\"Honda\",\n",
        "    \"model\" : 2015,\n",
        "    \"Engine\": \"Turbo\",\n",
        "}\n",
        "print(type(myDict))"
      ],
      "metadata": {
        "colab": {
          "base_uri": "https://localhost:8080/"
        },
        "id": "q5V3rmCybkKd",
        "outputId": "0f70c7a2-5da6-423d-cb9c-e7b0e8eb065b"
      },
      "execution_count": 5,
      "outputs": [
        {
          "output_type": "stream",
          "name": "stdout",
          "text": [
            "<class 'dict'>\n"
          ]
        }
      ]
    },
    {
      "cell_type": "code",
      "source": [
        ""
      ],
      "metadata": {
        "id": "oZ6ebGAKeNrW"
      },
      "execution_count": null,
      "outputs": []
    }
  ]
}